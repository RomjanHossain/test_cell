{
 "cells": [
  {
   "cell_type": "markdown",
   "metadata": {},
   "source": [
    "## Test no. 01\n",
    "* Complete the following function, strcat_ba(a, b), so that given two strings, a and b, it returns the concatenation of b followed by a (pay attention to the order in these instructions!).*"
   ]
  },
  {
   "cell_type": "code",
   "execution_count": 7,
   "metadata": {},
   "outputs": [],
   "source": [
    "import string\n",
    "from random import choice, random\n",
    "import math"
   ]
  },
  {
   "cell_type": "code",
   "execution_count": 8,
   "metadata": {},
   "outputs": [],
   "source": [
    "def strcat_ba(a,b):\n",
    "    assert type(a) is str\n",
    "    assert type(b) is str\n",
    "    return b + a"
   ]
  },
  {
   "cell_type": "code",
   "execution_count": 9,
   "metadata": {},
   "outputs": [],
   "source": [
    "def random_letter():\n",
    "    word = string.ascii_letters[:]\n",
    "    return choice(word)"
   ]
  },
  {
   "cell_type": "code",
   "execution_count": 10,
   "metadata": {},
   "outputs": [
    {
     "data": {
      "text/plain": [
       "<function __main__.random_letter()>"
      ]
     },
     "execution_count": 10,
     "metadata": {},
     "output_type": "execute_result"
    }
   ],
   "source": [
    "random_letter"
   ]
  },
  {
   "cell_type": "code",
   "execution_count": 11,
   "metadata": {},
   "outputs": [],
   "source": [
    "def random_str(n,fun=random_letter):\n",
    "    return ''.join([str(fun()) for _ in range(n)])"
   ]
  },
  {
   "cell_type": "code",
   "execution_count": 12,
   "metadata": {},
   "outputs": [],
   "source": [
    "a =random_str(5)\n",
    "b = random_str(7)\n",
    "c = strcat_ba(a,b)"
   ]
  },
  {
   "cell_type": "code",
   "execution_count": 13,
   "metadata": {},
   "outputs": [
    {
     "name": "stdout",
     "output_type": "stream",
     "text": [
      "strcat_ba (SvshL, NdEjAGq == NdEjAGqSvshL)\n",
      "\n",
      "Success!\n"
     ]
    }
   ],
   "source": [
    "print(f'strcat_ba ({a}, {b} == {c})')\n",
    "assert len(c) == len(a) + len(b)\n",
    "assert c[:len(b)] == b\n",
    "assert c[len(b):] == a\n",
    "print('\\nSuccess!')"
   ]
  },
  {
   "cell_type": "code",
   "execution_count": 14,
   "metadata": {},
   "outputs": [
    {
     "name": "stdout",
     "output_type": "stream",
     "text": [
      "SvshL NdEjAGq NdEjAGqSvshL\n"
     ]
    }
   ],
   "source": [
    "print(a,b,c)"
   ]
  },
  {
   "cell_type": "markdown",
   "metadata": {},
   "source": [
    "## Test no -02\n",
    "* Complete the following function, strcat_list(L), which generalizes the previous function: given a list of strings, L[:], returns the concatenation of the strings in reverse order. For example:*\n",
    "<code>\n",
    "strcat_list(['abc', 'def', 'ghi']) == 'ghidefabc'\n",
    "</code>"
   ]
  },
  {
   "cell_type": "code",
   "execution_count": 15,
   "metadata": {},
   "outputs": [],
   "source": [
    "def strcat_list(L):\n",
    "    assert type(L) is list\n",
    "    return ''.join(L[::-1])\n",
    "    "
   ]
  },
  {
   "cell_type": "code",
   "execution_count": 16,
   "metadata": {},
   "outputs": [
    {
     "data": {
      "text/plain": [
       "['MGKv', 'VxHq', 'Ibic', 'PUzX', 'qetw', 'WhzY', 'EdJn', 'gLBN']"
      ]
     },
     "execution_count": 16,
     "metadata": {},
     "output_type": "execute_result"
    }
   ],
   "source": [
    "# testing strcat_list\n",
    "n = 4\n",
    "nL = 8\n",
    "L = [random_str(n) for _ in range(nL)]\n",
    "L"
   ]
  },
  {
   "cell_type": "code",
   "execution_count": 17,
   "metadata": {},
   "outputs": [
    {
     "data": {
      "text/plain": [
       "'gLBNEdJnWhzYqetwPUzXIbicVxHqMGKv'"
      ]
     },
     "execution_count": 17,
     "metadata": {},
     "output_type": "execute_result"
    }
   ],
   "source": [
    "Lc = strcat_list(L)\n",
    "Lc"
   ]
  },
  {
   "cell_type": "code",
   "execution_count": 18,
   "metadata": {},
   "outputs": [
    {
     "name": "stdout",
     "output_type": "stream",
     "text": [
      "L == ['MGKv', 'VxHq', 'Ibic', 'PUzX', 'qetw', 'WhzY', 'EdJn', 'gLBN']\n",
      "strcat_list(L) == gLBNEdJnWhzYqetwPUzXIbicVxHqMGKv\n",
      "\n",
      "Success!\n"
     ]
    }
   ],
   "source": [
    "print(f'L == {L}')\n",
    "print(f'strcat_list(L) == {Lc}')\n",
    "assert all([Lc[i*n:(i+1)*n] == L[nL-i-1] for i, x in zip(range(nL), L)])\n",
    "print('\\nSuccess!')"
   ]
  },
  {
   "cell_type": "markdown",
   "metadata": {},
   "source": [
    "## Test no -01\n",
    "* Suppose you are given two variables, a and b, whose values are the real numbers, a≥0 (non-negative) and b>0 (positive). Complete the function, floor_fraction(a, b) so that it returns ⌊$\\frac{a}{b}$⌋, that is, the floor of ab. **The type of the returned value must be int (an integer)***"
   ]
  },
  {
   "cell_type": "code",
   "execution_count": 19,
   "metadata": {},
   "outputs": [],
   "source": [
    "#.............\n",
    "def is_number(x):\n",
    "    '''Returns 'True if 'x' is a number-like type, e.g., 'Int','Float','Decimal' '''\n",
    "    from numbers import Number\n",
    "    return isinstance(x,Number)\n",
    "\n",
    "def floor_fraction(a,b):\n",
    "    assert is_number(a) and a>=0\n",
    "    assert is_number(b) and b>=0\n",
    "    return int(math.floor(a/b))"
   ]
  },
  {
   "cell_type": "code",
   "execution_count": 20,
   "metadata": {},
   "outputs": [
    {
     "name": "stdout",
     "output_type": "stream",
     "text": [
      "floor_fraction(0.843875316761196,0.07553751706693523)== floor(11.171605177509633)==11\n",
      "\n",
      "(Successed!)\n"
     ]
    }
   ],
   "source": [
    "# let's test it!\n",
    "a = random()\n",
    "b = random()\n",
    "c = floor_fraction(a,b)\n",
    "print(f'floor_fraction({a},{b})== floor({a/b})=={c}')\n",
    "assert b*c <=a <= b*(c+1)\n",
    "assert type(c) is int\n",
    "print('\\n(Successed!)')"
   ]
  },
  {
   "cell_type": "code",
   "execution_count": null,
   "metadata": {},
   "outputs": [],
   "source": []
  }
 ],
 "metadata": {
  "kernelspec": {
   "display_name": "Python 3",
   "language": "python",
   "name": "python3"
  },
  "language_info": {
   "codemirror_mode": {
    "name": "ipython",
    "version": 3
   },
   "file_extension": ".py",
   "mimetype": "text/x-python",
   "name": "python",
   "nbconvert_exporter": "python",
   "pygments_lexer": "ipython3",
   "version": "3.7.4"
  }
 },
 "nbformat": 4,
 "nbformat_minor": 2
}
