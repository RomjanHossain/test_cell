{
 "cells": [
  {
   "cell_type": "markdown",
   "metadata": {},
   "source": [
    "## Test no. 01\n",
    "* Complete the following function, strcat_ba(a, b), so that given two strings, a and b, it returns the concatenation of b followed by a (pay attention to the order in these instructions!).*"
   ]
  },
  {
   "cell_type": "code",
   "execution_count": 1,
   "metadata": {},
   "outputs": [],
   "source": [
    "import string\n",
    "from random import choice, random\n",
    "import math"
   ]
  },
  {
   "cell_type": "code",
   "execution_count": 2,
   "metadata": {},
   "outputs": [],
   "source": [
    "def strcat_ba(a,b):\n",
    "    assert type(a) is str\n",
    "    assert type(b) is str\n",
    "    return b + a"
   ]
  },
  {
   "cell_type": "code",
   "execution_count": 3,
   "metadata": {},
   "outputs": [],
   "source": [
    "def random_letter():\n",
    "    word = string.ascii_letters[:]\n",
    "    return choice(word)"
   ]
  },
  {
   "cell_type": "code",
   "execution_count": 4,
   "metadata": {},
   "outputs": [
    {
     "data": {
      "text/plain": [
       "<function __main__.random_letter()>"
      ]
     },
     "execution_count": 4,
     "metadata": {},
     "output_type": "execute_result"
    }
   ],
   "source": [
    "random_letter"
   ]
  },
  {
   "cell_type": "code",
   "execution_count": 5,
   "metadata": {},
   "outputs": [],
   "source": [
    "def random_str(n,fun=random_letter):\n",
    "    return ''.join([str(fun()) for _ in range(n)])"
   ]
  },
  {
   "cell_type": "code",
   "execution_count": 6,
   "metadata": {},
   "outputs": [],
   "source": [
    "a =random_str(5)\n",
    "b = random_str(7)\n",
    "c = strcat_ba(a,b)"
   ]
  },
  {
   "cell_type": "code",
   "execution_count": 7,
   "metadata": {},
   "outputs": [
    {
     "name": "stdout",
     "output_type": "stream",
     "text": [
      "strcat_ba (WldRg, TpaEkjg == TpaEkjgWldRg)\n",
      "\n",
      "Success!\n"
     ]
    }
   ],
   "source": [
    "print(f'strcat_ba ({a}, {b} == {c})')\n",
    "assert len(c) == len(a) + len(b)\n",
    "assert c[:len(b)] == b\n",
    "assert c[len(b):] == a\n",
    "print('\\nSuccess!')"
   ]
  },
  {
   "cell_type": "code",
   "execution_count": 8,
   "metadata": {},
   "outputs": [
    {
     "name": "stdout",
     "output_type": "stream",
     "text": [
      "WldRg TpaEkjg TpaEkjgWldRg\n"
     ]
    }
   ],
   "source": [
    "print(a,b,c)"
   ]
  },
  {
   "cell_type": "markdown",
   "metadata": {},
   "source": [
    "## Test no -02\n",
    "* Complete the following function, strcat_list(L), which generalizes the previous function: given a list of strings, L[:], returns the concatenation of the strings in reverse order. For example:*\n",
    "<code>\n",
    "strcat_list(['abc', 'def', 'ghi']) == 'ghidefabc'\n",
    "</code>"
   ]
  },
  {
   "cell_type": "code",
   "execution_count": 9,
   "metadata": {},
   "outputs": [],
   "source": [
    "def strcat_list(L):\n",
    "    assert type(L) is list\n",
    "    return ''.join(L[::-1])\n",
    "    "
   ]
  },
  {
   "cell_type": "code",
   "execution_count": 10,
   "metadata": {},
   "outputs": [
    {
     "data": {
      "text/plain": [
       "['LyEy', 'qSkS', 'DsDV', 'ovXc', 'bGtb', 'GQTj', 'okVM', 'zpUV']"
      ]
     },
     "execution_count": 10,
     "metadata": {},
     "output_type": "execute_result"
    }
   ],
   "source": [
    "# testing strcat_list\n",
    "n = 4\n",
    "nL = 8\n",
    "L = [random_str(n) for _ in range(nL)]\n",
    "L"
   ]
  },
  {
   "cell_type": "code",
   "execution_count": 11,
   "metadata": {},
   "outputs": [
    {
     "data": {
      "text/plain": [
       "'zpUVokVMGQTjbGtbovXcDsDVqSkSLyEy'"
      ]
     },
     "execution_count": 11,
     "metadata": {},
     "output_type": "execute_result"
    }
   ],
   "source": [
    "Lc = strcat_list(L)\n",
    "Lc"
   ]
  },
  {
   "cell_type": "code",
   "execution_count": 12,
   "metadata": {},
   "outputs": [
    {
     "name": "stdout",
     "output_type": "stream",
     "text": [
      "L == ['LyEy', 'qSkS', 'DsDV', 'ovXc', 'bGtb', 'GQTj', 'okVM', 'zpUV']\n",
      "strcat_list(L) == zpUVokVMGQTjbGtbovXcDsDVqSkSLyEy\n",
      "\n",
      "Success!\n"
     ]
    }
   ],
   "source": [
    "print(f'L == {L}')\n",
    "print(f'strcat_list(L) == {Lc}')\n",
    "assert all([Lc[i*n:(i+1)*n] == L[nL-i-1] for i, x in zip(range(nL), L)])\n",
    "print('\\nSuccess!')"
   ]
  },
  {
   "cell_type": "markdown",
   "metadata": {},
   "source": [
    "## Test no -03\n",
    "* Suppose you are given two variables, a and b, whose values are the real numbers, a≥0 (non-negative) and b>0 (positive). Complete the function, floor_fraction(a, b) so that it returns ⌊$\\frac{a}{b}$⌋, that is, the floor of ab. **The type of the returned value must be int (an integer)***"
   ]
  },
  {
   "cell_type": "code",
   "execution_count": 13,
   "metadata": {},
   "outputs": [],
   "source": [
    "#.............\n",
    "def is_number(x):\n",
    "    '''Returns 'True if 'x' is a number-like type, e.g., 'Int','Float','Decimal' '''\n",
    "    from numbers import Number\n",
    "    return isinstance(x,Number)\n",
    "\n",
    "def floor_fraction(a,b):\n",
    "    assert is_number(a) and a>=0\n",
    "    assert is_number(b) and b>=0\n",
    "    return int(math.floor(a/b))"
   ]
  },
  {
   "cell_type": "code",
   "execution_count": 14,
   "metadata": {},
   "outputs": [
    {
     "name": "stdout",
     "output_type": "stream",
     "text": [
      "floor_fraction(0.1655963380630292,0.10747685084080283)== floor(1.5407628411844174)==1\n",
      "\n",
      "(Successed!)\n"
     ]
    }
   ],
   "source": [
    "# let's test it!\n",
    "a = random()\n",
    "b = random()\n",
    "c = floor_fraction(a,b)\n",
    "print(f'floor_fraction({a},{b})== floor({a/b})=={c}')\n",
    "assert b*c <=a <= b*(c+1)\n",
    "assert type(c) is int\n",
    "print('\\n(Successed!)')"
   ]
  },
  {
   "cell_type": "markdown",
   "metadata": {},
   "source": [
    "## Test -04\n",
    "Let a, b, and c represent three exam scores as numerical values. Complete the function, report_exam_avg(a, b, c) so that it computes the average score (equally weighted) and returns the string, 'Your average score is: XX', where XX is the average rounded to one decimal place. For example:\n",
    "<code>\n",
    "report_exam_avg(100, 95, 80) == 'Your average score: 91.7'\n",
    "</code>"
   ]
  },
  {
   "cell_type": "code",
   "execution_count": 15,
   "metadata": {},
   "outputs": [],
   "source": [
    "def report_exam_avg(a,b,c):\n",
    "    assert is_number(a) and is_number(b) and is_number(c)\n",
    "    m = (a+b+c)/3\n",
    "    ''' Alternative: Use python's library call, numpy.mean(m) '''\n",
    "    return 'Your average score: {:.1f}'.format(m)"
   ]
  },
  {
   "cell_type": "code",
   "execution_count": 16,
   "metadata": {},
   "outputs": [
    {
     "name": "stdout",
     "output_type": "stream",
     "text": [
      "Your average score: 91.7\n",
      "Checking some additional randomly generated cases:\n",
      "81.65833650561754, 44.32574887293579, 0.3112706271101717 -> 'Your average score: 42.1' [0.00154799811216814]\n",
      "57.30216141345118, 81.26352964212124, 10.964255506003562 -> 'Your average score: 49.8' [0.04331552052533046]\n",
      "74.64870832685801, 15.297098606366665, 38.225252683109744 -> 'Your average score: 42.7' [0.023686538778131688]\n",
      "29.380869194045044, 8.214245183149915, 56.660570046029704 -> 'Your average score: 31.4' [0.018561474408225347]\n",
      "50.32375652526683, 41.696277832787246, 95.89195495540541 -> 'Your average score: 62.6' [0.03732977115315824]\n",
      "6.95838653346793, 82.29836498595405, 36.15209848467876 -> 'Your average score: 41.8' [0.0029500013669168843]\n",
      "27.893832452673795, 11.90915556553791, 62.307562875010625 -> 'Your average score: 34.0' [0.03685029774077483]\n",
      "7.859076365605699, 67.54244064305875, 58.39070529348679 -> 'Your average score: 44.6' [0.0025925659495934874]\n",
      "92.12983658331663, 61.12465668638052, 7.577428761900295 -> 'Your average score: 53.6' [0.01064067719914874]\n",
      "20.561783690153558, 68.86369162183182, 50.0005454413019 -> 'Your average score: 46.5' [0.024659748904241496]\n",
      "\n",
      "Successed!\n"
     ]
    }
   ],
   "source": [
    "# report_exam_avg_test': Test_call\n",
    "msg = report_exam_avg(100,95,80)\n",
    "print(msg)\n",
    "assert msg== 'Your average score: 91.7'\n",
    "print('Checking some additional randomly generated cases:')\n",
    "for _ in range(10):\n",
    "    ex1 = random() * 100\n",
    "    ex2 = random() * 100\n",
    "    ex3 = random() * 100\n",
    "    msg = report_exam_avg(ex1, ex2, ex3)\n",
    "    ex_rounded_avg = (msg.split()[-1])\n",
    "    ex_rounded_avg = float(ex_rounded_avg)\n",
    "#     print(type(ex_rounded_avg))\n",
    "    abs_err = abs(ex_rounded_avg*3 - (ex1 + ex2 + ex3)) / 3\n",
    "    print(\"{}, {}, {} -> '{}' [{}]\".format(ex1, ex2, ex3, msg, abs_err))\n",
    "    assert abs_err <= 0.05\n",
    "print('\\nSuccessed!')"
   ]
  },
  {
   "cell_type": "markdown",
   "metadata": {},
   "source": [
    "## Test - 05\n",
    "(count_word_lengths_test: 2 points). Write a function count_word_lengths(s) that, given a string consisting of words separated by spaces, returns a list containing the length of each word. Words will consist of lowercase alphabetic characters, and they may be separated by multiple consecutive spaces. If a string is empty or has no spaces, the function should return an empty list.\n",
    "\n",
    "For instance, in this code sample,\n",
    "\n",
    "<code>\n",
    "count_word_lengths('the quick  brown   fox jumped over     the lazy  dog') == [3, 5, 5, 3, 6, 4, 3, 4, 3]`\n",
    "    </code>\n",
    "the input string consists of nine (9) words whose respective lengths are shown in the list."
   ]
  },
  {
   "cell_type": "code",
   "execution_count": 17,
   "metadata": {},
   "outputs": [],
   "source": [
    "def count_word_lengths(s):\n",
    "    assert all([x.isalpha() or x == ' ' for x in s])\n",
    "    assert type(s) is str\n",
    "    return [len(x) for x in s.split()]"
   ]
  },
  {
   "cell_type": "code",
   "execution_count": 18,
   "metadata": {},
   "outputs": [
    {
     "name": "stdout",
     "output_type": "stream",
     "text": [
      "Test 1: count_word_lengths('the quick brown fox jumped over the lazy dog') == [3, 5, 5, 3, 6, 4, 3, 4, 3]\n",
      "Test 2: count_word_lengths('qfspMrSSrS eEiH NIeDsMiKOw ECsGXnAUYdiY ') == '[10, 4, 10, 12]'\n",
      "  => 'qfspMrSSrS'\n",
      "  => 'eEiH'\n",
      "  => 'NIeDsMiKOw'\n",
      "  => 'ECsGXnAUYdiY'\n",
      "Test 3: Empty strings...\n",
      "\n",
      "(Passed!)\n"
     ]
    }
   ],
   "source": [
    "# `count_word_lengths_test`: Test cell\n",
    "\n",
    "# Test 1: Example\n",
    "qbf_str = 'the quick brown fox jumped over the lazy dog'\n",
    "qbf_lens = count_word_lengths(qbf_str)\n",
    "print(\"Test 1: count_word_lengths('{}') == {}\".format(qbf_str, qbf_lens))\n",
    "assert qbf_lens == [3, 5, 5, 3, 6, 4, 3, 4, 3]\n",
    "\n",
    "# Test 2: Random strings\n",
    "#return ''.join([choice('abcdefghijklmnopqrstuvwxyz') for _ in range(n)])\n",
    "\n",
    "def random_letter_or_space(pr_space=0.15):\n",
    "    is_space = (random() <= pr_space)\n",
    "    if is_space:\n",
    "        return ' '\n",
    "    return random_letter()\n",
    "\n",
    "S_LEN = 40\n",
    "W_SPACE = 1 / 6\n",
    "rand_str = random_str(S_LEN, fun=random_letter_or_space)\n",
    "rand_lens = count_word_lengths(rand_str)\n",
    "print(\"Test 2: count_word_lengths('{}') == '{}'\".format(rand_str, rand_lens))\n",
    "c = 0\n",
    "while c < len(rand_str) and rand_str[c] == ' ':\n",
    "    c += 1\n",
    "for k in rand_lens:\n",
    "    print(\"  => '{}'\".format (rand_str[c:c+k]))\n",
    "    assert (c+k) == len(rand_str) or rand_str[c+k] == ' '\n",
    "    c += k\n",
    "    while c < len(rand_str) and rand_str[c] == ' ':\n",
    "        c += 1\n",
    "    \n",
    "# Test 3: Empty string\n",
    "print(\"Test 3: Empty strings...\")\n",
    "assert count_word_lengths('') == []\n",
    "assert count_word_lengths('   ') == []\n",
    "\n",
    "print(\"\\n(Passed!)\")"
   ]
  },
  {
   "cell_type": "code",
   "execution_count": null,
   "metadata": {},
   "outputs": [],
   "source": []
  }
 ],
 "metadata": {
  "kernelspec": {
   "display_name": "Python 3",
   "language": "python",
   "name": "python3"
  },
  "language_info": {
   "codemirror_mode": {
    "name": "ipython",
    "version": 3
   },
   "file_extension": ".py",
   "mimetype": "text/x-python",
   "name": "python",
   "nbconvert_exporter": "python",
   "pygments_lexer": "ipython3",
   "version": "3.7.4"
  }
 },
 "nbformat": 4,
 "nbformat_minor": 2
}
