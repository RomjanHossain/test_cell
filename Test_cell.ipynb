{
 "cells": [
  {
   "cell_type": "markdown",
   "metadata": {},
   "source": [
    "## Test no. 01\n",
    "* Complete the following function, strcat_ba(a, b), so that given two strings, a and b, it returns the concatenation of b followed by a (pay attention to the order in these instructions!).*"
   ]
  },
  {
   "cell_type": "code",
   "execution_count": 1,
   "metadata": {},
   "outputs": [],
   "source": [
    "import string\n",
    "from random import choice, random\n",
    "import math"
   ]
  },
  {
   "cell_type": "code",
   "execution_count": 2,
   "metadata": {},
   "outputs": [],
   "source": [
    "def strcat_ba(a,b):\n",
    "    assert type(a) is str\n",
    "    assert type(b) is str\n",
    "    return b + a"
   ]
  },
  {
   "cell_type": "code",
   "execution_count": 3,
   "metadata": {},
   "outputs": [],
   "source": [
    "def random_letter():\n",
    "    word = string.ascii_letters[:]\n",
    "    return choice(word)"
   ]
  },
  {
   "cell_type": "code",
   "execution_count": 4,
   "metadata": {},
   "outputs": [
    {
     "data": {
      "text/plain": [
       "<function __main__.random_letter()>"
      ]
     },
     "execution_count": 4,
     "metadata": {},
     "output_type": "execute_result"
    }
   ],
   "source": [
    "random_letter"
   ]
  },
  {
   "cell_type": "code",
   "execution_count": 5,
   "metadata": {},
   "outputs": [],
   "source": [
    "def random_str(n,fun=random_letter):\n",
    "    return ''.join([str(fun()) for _ in range(n)])"
   ]
  },
  {
   "cell_type": "code",
   "execution_count": 6,
   "metadata": {},
   "outputs": [],
   "source": [
    "a =random_str(5)\n",
    "b = random_str(7)\n",
    "c = strcat_ba(a,b)"
   ]
  },
  {
   "cell_type": "code",
   "execution_count": 7,
   "metadata": {},
   "outputs": [
    {
     "name": "stdout",
     "output_type": "stream",
     "text": [
      "strcat_ba (cQydB, HbzVstg == HbzVstgcQydB)\n",
      "\n",
      "Success!\n"
     ]
    }
   ],
   "source": [
    "print(f'strcat_ba ({a}, {b} == {c})')\n",
    "assert len(c) == len(a) + len(b)\n",
    "assert c[:len(b)] == b\n",
    "assert c[len(b):] == a\n",
    "print('\\nSuccess!')"
   ]
  },
  {
   "cell_type": "code",
   "execution_count": 8,
   "metadata": {},
   "outputs": [
    {
     "name": "stdout",
     "output_type": "stream",
     "text": [
      "cQydB HbzVstg HbzVstgcQydB\n"
     ]
    }
   ],
   "source": [
    "print(a,b,c)"
   ]
  },
  {
   "cell_type": "markdown",
   "metadata": {},
   "source": [
    "## Test no -02\n",
    "* Complete the following function, strcat_list(L), which generalizes the previous function: given a list of strings, L[:], returns the concatenation of the strings in reverse order. For example:*\n",
    "<code>\n",
    "strcat_list(['abc', 'def', 'ghi']) == 'ghidefabc'\n",
    "</code>"
   ]
  },
  {
   "cell_type": "code",
   "execution_count": 9,
   "metadata": {},
   "outputs": [],
   "source": [
    "def strcat_list(L):\n",
    "    assert type(L) is list\n",
    "    return ''.join(L[::-1])\n",
    "    "
   ]
  },
  {
   "cell_type": "code",
   "execution_count": 10,
   "metadata": {},
   "outputs": [
    {
     "data": {
      "text/plain": [
       "['kZVV', 'xvor', 'tlJu', 'eenG', 'jogN', 'tcRF', 'sUGu', 'vVRy']"
      ]
     },
     "execution_count": 10,
     "metadata": {},
     "output_type": "execute_result"
    }
   ],
   "source": [
    "# testing strcat_list\n",
    "n = 4\n",
    "nL = 8\n",
    "L = [random_str(n) for _ in range(nL)]\n",
    "L"
   ]
  },
  {
   "cell_type": "code",
   "execution_count": 11,
   "metadata": {},
   "outputs": [
    {
     "data": {
      "text/plain": [
       "'vVRysUGutcRFjogNeenGtlJuxvorkZVV'"
      ]
     },
     "execution_count": 11,
     "metadata": {},
     "output_type": "execute_result"
    }
   ],
   "source": [
    "Lc = strcat_list(L)\n",
    "Lc"
   ]
  },
  {
   "cell_type": "code",
   "execution_count": 12,
   "metadata": {},
   "outputs": [
    {
     "name": "stdout",
     "output_type": "stream",
     "text": [
      "L == ['kZVV', 'xvor', 'tlJu', 'eenG', 'jogN', 'tcRF', 'sUGu', 'vVRy']\n",
      "strcat_list(L) == vVRysUGutcRFjogNeenGtlJuxvorkZVV\n",
      "\n",
      "Success!\n"
     ]
    }
   ],
   "source": [
    "print(f'L == {L}')\n",
    "print(f'strcat_list(L) == {Lc}')\n",
    "assert all([Lc[i*n:(i+1)*n] == L[nL-i-1] for i, x in zip(range(nL), L)])\n",
    "print('\\nSuccess!')"
   ]
  },
  {
   "cell_type": "markdown",
   "metadata": {},
   "source": [
    "## Test no -03\n",
    "* Suppose you are given two variables, a and b, whose values are the real numbers, a≥0 (non-negative) and b>0 (positive). Complete the function, floor_fraction(a, b) so that it returns ⌊$\\frac{a}{b}$⌋, that is, the floor of ab. **The type of the returned value must be int (an integer)***"
   ]
  },
  {
   "cell_type": "code",
   "execution_count": 13,
   "metadata": {},
   "outputs": [],
   "source": [
    "#.............\n",
    "def is_number(x):\n",
    "    '''Returns 'True if 'x' is a number-like type, e.g., 'Int','Float','Decimal' '''\n",
    "    from numbers import Number\n",
    "    return isinstance(x,Number)\n",
    "\n",
    "def floor_fraction(a,b):\n",
    "    assert is_number(a) and a>=0\n",
    "    assert is_number(b) and b>=0\n",
    "    return int(math.floor(a/b))"
   ]
  },
  {
   "cell_type": "code",
   "execution_count": 14,
   "metadata": {},
   "outputs": [
    {
     "name": "stdout",
     "output_type": "stream",
     "text": [
      "floor_fraction(0.27291280734667156,0.03453501867148612)== floor(7.902494854360753)==7\n",
      "\n",
      "(Successed!)\n"
     ]
    }
   ],
   "source": [
    "# let's test it!\n",
    "a = random()\n",
    "b = random()\n",
    "c = floor_fraction(a,b)\n",
    "print(f'floor_fraction({a},{b})== floor({a/b})=={c}')\n",
    "assert b*c <=a <= b*(c+1)\n",
    "assert type(c) is int\n",
    "print('\\n(Successed!)')"
   ]
  },
  {
   "cell_type": "markdown",
   "metadata": {},
   "source": [
    "## Test -04\n",
    "Let a, b, and c represent three exam scores as numerical values. Complete the function, report_exam_avg(a, b, c) so that it computes the average score (equally weighted) and returns the string, 'Your average score is: XX', where XX is the average rounded to one decimal place. For example:\n",
    "<code>\n",
    "report_exam_avg(100, 95, 80) == 'Your average score: 91.7'\n",
    "</code>"
   ]
  },
  {
   "cell_type": "code",
   "execution_count": 15,
   "metadata": {},
   "outputs": [],
   "source": [
    "def report_exam_avg(a,b,c):\n",
    "    assert is_number(a) and is_number(b) and is_number(c)\n",
    "    m = (a+b+c)/3\n",
    "    ''' Alternative: Use python's library call, numpy.mean(m) '''\n",
    "    return 'Your average score: {:.1f}'.format(m)"
   ]
  },
  {
   "cell_type": "code",
   "execution_count": 16,
   "metadata": {},
   "outputs": [
    {
     "name": "stdout",
     "output_type": "stream",
     "text": [
      "Your average score: 91.7\n",
      "Checking some additional randomly generated cases:\n",
      "39.63830989147156, 8.863966534498468, 17.784816317115194 -> 'Your average score: 22.1' [0.004302418971595519]\n",
      "82.75655750263482, 11.012861729743461, 12.26709186620475 -> 'Your average score: 35.3' [0.04550369952768089]\n",
      "93.44572917206247, 37.96821119060978, 32.16412511064258 -> 'Your average score: 54.5' [0.02602182443826943]\n",
      "22.338854261641885, 25.017406789779272, 56.75778292643937 -> 'Your average score: 34.7' [0.0046813259535033085]\n",
      "4.697521242345227, 19.55391414030202, 95.19527622403969 -> 'Your average score: 39.8' [0.015570535562313617]\n",
      "91.71533972745158, 85.14752836973905, 4.9405870115728945 -> 'Your average score: 60.6' [0.001151702921172652]\n",
      "8.924278000738994, 50.63377654891055, 17.48672512724154 -> 'Your average score: 25.7' [0.018406774369637446]\n",
      "65.88906983635768, 33.300130228195194, 70.92274825600613 -> 'Your average score: 56.7' [0.003982773519661957]\n",
      "14.870240351255081, 17.41935582466746, 28.60112753922547 -> 'Your average score: 20.3' [0.003092094950664167]\n",
      "54.061859827470556, 8.167219041278283, 27.267620743061592 -> 'Your average score: 29.8' [0.03223320393681206]\n",
      "\n",
      "Successed!\n"
     ]
    }
   ],
   "source": [
    "# report_exam_avg_test': Test_call\n",
    "msg = report_exam_avg(100,95,80)\n",
    "print(msg)\n",
    "assert msg== 'Your average score: 91.7'\n",
    "print('Checking some additional randomly generated cases:')\n",
    "for _ in range(10):\n",
    "    ex1 = random() * 100\n",
    "    ex2 = random() * 100\n",
    "    ex3 = random() * 100\n",
    "    msg = report_exam_avg(ex1, ex2, ex3)\n",
    "    ex_rounded_avg = (msg.split()[-1])\n",
    "    ex_rounded_avg = float(ex_rounded_avg)\n",
    "#     print(type(ex_rounded_avg))\n",
    "    abs_err = abs(ex_rounded_avg*3 - (ex1 + ex2 + ex3)) / 3\n",
    "    print(\"{}, {}, {} -> '{}' [{}]\".format(ex1, ex2, ex3, msg, abs_err))\n",
    "    assert abs_err <= 0.05\n",
    "print('\\nSuccessed!')"
   ]
  },
  {
   "cell_type": "markdown",
   "metadata": {},
   "source": [
    "## Test - 05\n",
    "Write a function count_word_lengths(s) that, given a string consisting of words separated by spaces, returns a list containing the length of each word. Words will consist of lowercase alphabetic characters, and they may be separated by multiple consecutive spaces. If a string is empty or has no spaces, the function should return an empty list.\n",
    "\n",
    "For instance, in this code sample,\n",
    "\n",
    "<code>\n",
    "count_word_lengths('the quick  brown   fox jumped over     the lazy  dog') == [3, 5, 5, 3, 6, 4, 3, 4, 3]`\n",
    "    </code>\n",
    "the input string consists of nine (9) words whose respective lengths are shown in the list."
   ]
  },
  {
   "cell_type": "code",
   "execution_count": 17,
   "metadata": {},
   "outputs": [],
   "source": [
    "def count_word_lengths(s):\n",
    "    assert all([x.isalpha() or x == ' ' for x in s])\n",
    "    assert type(s) is str\n",
    "    return [len(x) for x in s.split()]"
   ]
  },
  {
   "cell_type": "code",
   "execution_count": 18,
   "metadata": {},
   "outputs": [
    {
     "name": "stdout",
     "output_type": "stream",
     "text": [
      "Test 1: count_word_lengths('the quick brown fox jumped over the lazy dog') == [3, 5, 5, 3, 6, 4, 3, 4, 3]\n",
      "Test 2: count_word_lengths('qFn PwTM ACy fhHsMdRvx uKrSpjXklg  ZEdiE') == '[3, 4, 3, 9, 10, 5]'\n",
      "  => 'qFn'\n",
      "  => 'PwTM'\n",
      "  => 'ACy'\n",
      "  => 'fhHsMdRvx'\n",
      "  => 'uKrSpjXklg'\n",
      "  => 'ZEdiE'\n",
      "Test 3: Empty strings...\n",
      "\n",
      "Sucessed!\n"
     ]
    }
   ],
   "source": [
    "# `count_word_lengths_test`: Test cell\n",
    "\n",
    "# Test 1: Example\n",
    "qbf_str = 'the quick brown fox jumped over the lazy dog'\n",
    "qbf_lens = count_word_lengths(qbf_str)\n",
    "print(\"Test 1: count_word_lengths('{}') == {}\".format(qbf_str, qbf_lens))\n",
    "assert qbf_lens == [3, 5, 5, 3, 6, 4, 3, 4, 3]\n",
    "\n",
    "# Test 2: Random strings\n",
    "#return ''.join([choice('abcdefghijklmnopqrstuvwxyz') for _ in range(n)])\n",
    "\n",
    "def random_letter_or_space(pr_space=0.15):\n",
    "    is_space = (random() <= pr_space)\n",
    "    if is_space:\n",
    "        return ' '\n",
    "    return random_letter()\n",
    "\n",
    "S_LEN = 40\n",
    "W_SPACE = 1 / 6\n",
    "rand_str = random_str(S_LEN, fun=random_letter_or_space)\n",
    "rand_lens = count_word_lengths(rand_str)\n",
    "print(\"Test 2: count_word_lengths('{}') == '{}'\".format(rand_str, rand_lens))\n",
    "c = 0\n",
    "while c < len(rand_str) and rand_str[c] == ' ':\n",
    "    c += 1\n",
    "for k in rand_lens:\n",
    "    print(\"  => '{}'\".format (rand_str[c:c+k]))\n",
    "    assert (c+k) == len(rand_str) or rand_str[c+k] == ' '\n",
    "    c += k\n",
    "    while c < len(rand_str) and rand_str[c] == ' ':\n",
    "        c += 1\n",
    "    \n",
    "# Test 3: Empty string\n",
    "print(\"Test 3: Empty strings...\")\n",
    "assert count_word_lengths('') == []\n",
    "assert count_word_lengths('   ') == []\n",
    "\n",
    "print(\"\\nSucessed!\")"
   ]
  },
  {
   "cell_type": "markdown",
   "metadata": {},
   "source": [
    "## Test-06\n",
    "Suppose you are given a vector, x, containing real values that are mostly zero. For instance:\n",
    "<code>\n",
    "x = [0.0, 0.87, 0.0, 0.0, 0.0, 0.32, 0.46, 0.0, 0.0, 0.10, 0.0, 0.0]\n",
    "</code>\n",
    "    \n",
    "Complete the function, compress_vector(x), so that returns a dictionary d with two keys, d['inds'] and d['vals'], which are lists that indicate the position and value of all the non-zero entries of x. For the previous example,\n",
    "<code>\n",
    "d['inds'] = [1, 5, 6, 9]\n",
    "    d['vals'] = [0.87, 0.32, 0.46, 0.10]\n",
    "    \n",
    "</code>\n",
    "\n",
    "**Note 1. Your implementation must not modify the input vector x.**\n",
    "\n",
    "**Note 2. If x contains only zero entries, d['inds'] and d['vals'] should be empty lists.**"
   ]
  },
  {
   "cell_type": "code",
   "execution_count": 19,
   "metadata": {},
   "outputs": [],
   "source": [
    "def compress_vector(x):\n",
    "    assert type(x) is list\n",
    "    d = {'inds': [], 'vals': []}\n",
    "    for i, v in enumerate(x):\n",
    "        if v != 0.0:\n",
    "            d['inds'].append(i)\n",
    "            d['vals'].append(v)\n",
    "    return d"
   ]
  },
  {
   "cell_type": "code",
   "execution_count": 20,
   "metadata": {},
   "outputs": [
    {
     "name": "stdout",
     "output_type": "stream",
     "text": [
      "Testing `compress_vector(x=[0.0, 0.87, 0.0, 0.0, 0.0, 0.32, 0.46, 0.0, 0.0, 0.1, 0.0, 0.0])`:\n",
      "\t`x` has 8 zero entries.\n",
      "\tx (after call): [0.0, 0.87, 0.0, 0.0, 0.0, 0.32, 0.46, 0.0, 0.0, 0.1, 0.0, 0.0]\n",
      "\td: {'inds': [1, 5, 6, 9], 'vals': [0.87, 0.32, 0.46, 0.1]}\n",
      "\n",
      "Testing `compress_vector(x=[0.0, 0.0, 0.0, 0.0, 0.0, 0.98, 0.02, 0.86, 0.0, 0.0, 0.0, 0.0, 0.24, 0.0, 0.0, 0.0, 0.01, 0.0, 0.0, 0.0])`:\n",
      "\t`x` has 15 zero entries.\n",
      "\tx (after call): [0.0, 0.0, 0.0, 0.0, 0.0, 0.98, 0.02, 0.86, 0.0, 0.0, 0.0, 0.0, 0.24, 0.0, 0.0, 0.0, 0.01, 0.0, 0.0, 0.0]\n",
      "\td: {'inds': [5, 6, 7, 12, 16], 'vals': [0.98, 0.02, 0.86, 0.24, 0.01]}\n",
      "\n",
      "Testing `compress_vector(x=[0.0, 0.54, 0.0, 0.0, 0.0, 0.0, 0.0, 0.0, 0.73, 0.0, 0.0, 0.0, 0.0, 0.0, 0.0, 0.0, 0.0, 0.4, 0.0, 0.0])`:\n",
      "\t`x` has 17 zero entries.\n",
      "\tx (after call): [0.0, 0.54, 0.0, 0.0, 0.0, 0.0, 0.0, 0.0, 0.73, 0.0, 0.0, 0.0, 0.0, 0.0, 0.0, 0.0, 0.0, 0.4, 0.0, 0.0]\n",
      "\td: {'inds': [1, 8, 17], 'vals': [0.54, 0.73, 0.4]}\n",
      "\n",
      "Testing `compress_vector(x=[0.0, 0.07, 0.12, 0.0, 0.0, 0.0, 0.0, 0.73, 0.83, 0.0, 0.0, 0.0, 0.0, 0.7, 0.0, 0.0, 0.0, 0.0, 0.0, 0.0])`:\n",
      "\t`x` has 15 zero entries.\n",
      "\tx (after call): [0.0, 0.07, 0.12, 0.0, 0.0, 0.0, 0.0, 0.73, 0.83, 0.0, 0.0, 0.0, 0.0, 0.7, 0.0, 0.0, 0.0, 0.0, 0.0, 0.0]\n",
      "\td: {'inds': [1, 2, 7, 8, 13], 'vals': [0.07, 0.12, 0.73, 0.83, 0.7]}\n",
      "Testing `compress_vector(x=[0.0, 0.0, 0.0, 0.0, 0.0, 0.0, 0.0, 0.0, 0.0, 0.0])`:\n",
      "\t`x` has 10 zero entries.\n",
      "\tx (after call): [0.0, 0.0, 0.0, 0.0, 0.0, 0.0, 0.0, 0.0, 0.0, 0.0]\n",
      "\td: {'inds': [], 'vals': []}\n",
      "\n",
      "Sucessed!\n"
     ]
    }
   ],
   "source": [
    "# `compress_vector_test`: Test cell\n",
    "def check_compress_vector(x_orig):\n",
    "    print(\"Testing `compress_vector(x={})`:\".format(x_orig))\n",
    "    x = x_orig.copy()\n",
    "    nz = x.count(0.0)\n",
    "    print(\"\\t`x` has {} zero entries.\".format(nz))\n",
    "    d = compress_vector(x)\n",
    "    print(\"\\tx (after call): {}\".format(x))\n",
    "    print(\"\\td: {}\".format(d))\n",
    "    assert x == x_orig, \"Your implementation appears to modify the input.\"\n",
    "    assert type(d) is dict, \"Output type is not `dict` (a dictionary).\"\n",
    "    assert 'inds' in d and type(d['inds']) is list, \"Output key, 'inds', does not have a value of type `list`.\"\n",
    "    assert 'vals' in d and type(d['vals']) is list, \"Output key, 'vals', does not have a value of type `list`.\"\n",
    "    assert len(d['inds']) == len(d['vals']), \"`d['inds']` and `d['vals']` are lists of unequal length.\"\n",
    "    for i, v in zip(d['inds'], d['vals']):\n",
    "        assert x[i] == v, \"x[{}] == {} instead of {}\".format(i, x[i], v)\n",
    "    assert nz + len(d['vals']) == len(x), \"Output may be missing values.\"\n",
    "    assert len(d.keys()) == 2, \"Output may have keys other than 'inds' and 'vals'.\"\n",
    "    \n",
    "# Test 1: Example\n",
    "x = [0.0, 0.87, 0.0, 0.0, 0.0, 0.32, 0.46, 0.0, 0.0, 0.10, 0.0, 0.0]\n",
    "check_compress_vector(x)\n",
    "\n",
    "# Test 2: Random sparse vectors\n",
    "from random import random\n",
    "for _ in range(3):\n",
    "    print(\"\")\n",
    "    x = []\n",
    "    for _ in range(20):\n",
    "        if random() <= 0.8: # Make about 10% of entries zero\n",
    "            v = 0.0\n",
    "        else:\n",
    "            v = float(\"{:.2f}\".format(random()))\n",
    "        x.append(v)\n",
    "    check_compress_vector(x)\n",
    "    \n",
    "# Test 3: Empty vector\n",
    "x = [0.0] * 10\n",
    "check_compress_vector(x)\n",
    "\n",
    "print(\"\\nSucessed!\")"
   ]
  },
  {
   "cell_type": "markdown",
   "metadata": {},
   "source": [
    "### Completed!"
   ]
  }
 ],
 "metadata": {
  "kernelspec": {
   "display_name": "Python 3",
   "language": "python",
   "name": "python3"
  },
  "language_info": {
   "codemirror_mode": {
    "name": "ipython",
    "version": 3
   },
   "file_extension": ".py",
   "mimetype": "text/x-python",
   "name": "python",
   "nbconvert_exporter": "python",
   "pygments_lexer": "ipython3",
   "version": "3.7.4"
  }
 },
 "nbformat": 4,
 "nbformat_minor": 2
}
