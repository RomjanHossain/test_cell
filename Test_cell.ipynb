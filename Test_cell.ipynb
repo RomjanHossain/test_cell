{
 "cells": [
  {
   "cell_type": "markdown",
   "metadata": {},
   "source": [
    "## Test no. 01\n",
    "* Complete the following function, strcat_ba(a, b), so that given two strings, a and b, it returns the concatenation of b followed by a (pay attention to the order in these instructions!).*"
   ]
  },
  {
   "cell_type": "code",
   "execution_count": 1,
   "metadata": {},
   "outputs": [],
   "source": [
    "import string\n",
    "from random import choice, random\n",
    "import math"
   ]
  },
  {
   "cell_type": "code",
   "execution_count": 2,
   "metadata": {},
   "outputs": [],
   "source": [
    "def strcat_ba(a,b):\n",
    "    assert type(a) is str\n",
    "    assert type(b) is str\n",
    "    return b + a"
   ]
  },
  {
   "cell_type": "code",
   "execution_count": 3,
   "metadata": {},
   "outputs": [],
   "source": [
    "def random_letter():\n",
    "    word = string.ascii_letters[:]\n",
    "    return choice(word)"
   ]
  },
  {
   "cell_type": "code",
   "execution_count": 4,
   "metadata": {},
   "outputs": [
    {
     "data": {
      "text/plain": [
       "<function __main__.random_letter()>"
      ]
     },
     "execution_count": 4,
     "metadata": {},
     "output_type": "execute_result"
    }
   ],
   "source": [
    "random_letter"
   ]
  },
  {
   "cell_type": "code",
   "execution_count": 5,
   "metadata": {},
   "outputs": [],
   "source": [
    "def random_str(n,fun=random_letter):\n",
    "    return ''.join([str(fun()) for _ in range(n)])"
   ]
  },
  {
   "cell_type": "code",
   "execution_count": 6,
   "metadata": {},
   "outputs": [],
   "source": [
    "a =random_str(5)\n",
    "b = random_str(7)\n",
    "c = strcat_ba(a,b)"
   ]
  },
  {
   "cell_type": "code",
   "execution_count": 7,
   "metadata": {},
   "outputs": [
    {
     "name": "stdout",
     "output_type": "stream",
     "text": [
      "strcat_ba (XflHE, RfSEiBo == RfSEiBoXflHE)\n",
      "\n",
      "Success!\n"
     ]
    }
   ],
   "source": [
    "print(f'strcat_ba ({a}, {b} == {c})')\n",
    "assert len(c) == len(a) + len(b)\n",
    "assert c[:len(b)] == b\n",
    "assert c[len(b):] == a\n",
    "print('\\nSuccess!')"
   ]
  },
  {
   "cell_type": "code",
   "execution_count": 8,
   "metadata": {},
   "outputs": [
    {
     "name": "stdout",
     "output_type": "stream",
     "text": [
      "XflHE RfSEiBo RfSEiBoXflHE\n"
     ]
    }
   ],
   "source": [
    "print(a,b,c)"
   ]
  },
  {
   "cell_type": "markdown",
   "metadata": {},
   "source": [
    "## Test no -02\n",
    "* Complete the following function, strcat_list(L), which generalizes the previous function: given a list of strings, L[:], returns the concatenation of the strings in reverse order. For example:*\n",
    "<code>\n",
    "strcat_list(['abc', 'def', 'ghi']) == 'ghidefabc'\n",
    "</code>"
   ]
  },
  {
   "cell_type": "code",
   "execution_count": 9,
   "metadata": {},
   "outputs": [],
   "source": [
    "def strcat_list(L):\n",
    "    assert type(L) is list\n",
    "    return ''.join(L[::-1])\n",
    "    "
   ]
  },
  {
   "cell_type": "code",
   "execution_count": 10,
   "metadata": {},
   "outputs": [
    {
     "data": {
      "text/plain": [
       "['dKYa', 'NJvR', 'KwWg', 'cfyO', 'fYVE', 'ErQb', 'hNXE', 'LMvh']"
      ]
     },
     "execution_count": 10,
     "metadata": {},
     "output_type": "execute_result"
    }
   ],
   "source": [
    "# testing strcat_list\n",
    "n = 4\n",
    "nL = 8\n",
    "L = [random_str(n) for _ in range(nL)]\n",
    "L"
   ]
  },
  {
   "cell_type": "code",
   "execution_count": 11,
   "metadata": {},
   "outputs": [
    {
     "data": {
      "text/plain": [
       "'LMvhhNXEErQbfYVEcfyOKwWgNJvRdKYa'"
      ]
     },
     "execution_count": 11,
     "metadata": {},
     "output_type": "execute_result"
    }
   ],
   "source": [
    "Lc = strcat_list(L)\n",
    "Lc"
   ]
  },
  {
   "cell_type": "code",
   "execution_count": 12,
   "metadata": {},
   "outputs": [
    {
     "name": "stdout",
     "output_type": "stream",
     "text": [
      "L == ['dKYa', 'NJvR', 'KwWg', 'cfyO', 'fYVE', 'ErQb', 'hNXE', 'LMvh']\n",
      "strcat_list(L) == LMvhhNXEErQbfYVEcfyOKwWgNJvRdKYa\n",
      "\n",
      "Success!\n"
     ]
    }
   ],
   "source": [
    "print(f'L == {L}')\n",
    "print(f'strcat_list(L) == {Lc}')\n",
    "assert all([Lc[i*n:(i+1)*n] == L[nL-i-1] for i, x in zip(range(nL), L)])\n",
    "print('\\nSuccess!')"
   ]
  },
  {
   "cell_type": "markdown",
   "metadata": {},
   "source": [
    "## Test no -03\n",
    "* Suppose you are given two variables, a and b, whose values are the real numbers, a≥0 (non-negative) and b>0 (positive). Complete the function, floor_fraction(a, b) so that it returns ⌊$\\frac{a}{b}$⌋, that is, the floor of ab. **The type of the returned value must be int (an integer)***"
   ]
  },
  {
   "cell_type": "code",
   "execution_count": 13,
   "metadata": {},
   "outputs": [],
   "source": [
    "#.............\n",
    "def is_number(x):\n",
    "    '''Returns 'True if 'x' is a number-like type, e.g., 'Int','Float','Decimal' '''\n",
    "    from numbers import Number\n",
    "    return isinstance(x,Number)\n",
    "\n",
    "def floor_fraction(a,b):\n",
    "    assert is_number(a) and a>=0\n",
    "    assert is_number(b) and b>=0\n",
    "    return int(math.floor(a/b))"
   ]
  },
  {
   "cell_type": "code",
   "execution_count": 14,
   "metadata": {},
   "outputs": [
    {
     "name": "stdout",
     "output_type": "stream",
     "text": [
      "floor_fraction(0.09731472985578515,0.5199721868192689)== floor(0.18715372153089727)==0\n",
      "\n",
      "(Successed!)\n"
     ]
    }
   ],
   "source": [
    "# let's test it!\n",
    "a = random()\n",
    "b = random()\n",
    "c = floor_fraction(a,b)\n",
    "print(f'floor_fraction({a},{b})== floor({a/b})=={c}')\n",
    "assert b*c <=a <= b*(c+1)\n",
    "assert type(c) is int\n",
    "print('\\n(Successed!)')"
   ]
  },
  {
   "cell_type": "markdown",
   "metadata": {},
   "source": [
    "## Test -04\n",
    "Let a, b, and c represent three exam scores as numerical values. Complete the function, report_exam_avg(a, b, c) so that it computes the average score (equally weighted) and returns the string, 'Your average score is: XX', where XX is the average rounded to one decimal place. For example:\n",
    "<code>\n",
    "report_exam_avg(100, 95, 80) == 'Your average score: 91.7'\n",
    "</code>"
   ]
  },
  {
   "cell_type": "code",
   "execution_count": 15,
   "metadata": {},
   "outputs": [],
   "source": [
    "def report_exam_avg(a,b,c):\n",
    "    assert is_number(a) and is_number(b) and is_number(c)\n",
    "    m = (a+b+c)/3\n",
    "    ''' Alternative: Use python's library call, numpy.mean(m) '''\n",
    "    return 'Your average score: {:.1f}'.format(m)"
   ]
  },
  {
   "cell_type": "code",
   "execution_count": 16,
   "metadata": {},
   "outputs": [
    {
     "name": "stdout",
     "output_type": "stream",
     "text": [
      "Your average score: 91.7\n",
      "Checking some additional randomly generated cases:\n",
      "23.426727889621112, 92.37567615086924, 34.95214798473971 -> 'Your average score: 50.3' [0.04848265825664081]\n",
      "54.79376131698689, 66.61842885892086, 37.331883949271614 -> 'Your average score: 52.9' [0.014691375059792714]\n",
      "55.98468076786214, 12.457850427153094, 18.49461276097496 -> 'Your average score: 29.0' [0.0209520146699352]\n",
      "75.29374487437492, 23.161168682318202, 94.5428048135524 -> 'Your average score: 64.3' [0.03257279008185302]\n",
      "30.6205977631397, 79.4307684406319, 43.06001374443168 -> 'Your average score: 51.0' [0.03712664940109297]\n",
      "43.088818640541895, 49.163502052848195, 49.66577570952497 -> 'Your average score: 47.3' [0.006032134305030468]\n",
      "62.40166662529205, 91.29504183152234, 88.70690641121041 -> 'Your average score: 80.8' [0.001204956008280078]\n",
      "22.566473727486358, 82.3789695370443, 40.67035154385004 -> 'Your average score: 48.5' [0.03859826946022812]\n",
      "50.839474189919365, 2.471753634388052, 46.83362976825672 -> 'Your average score: 33.4' [0.018380802478617397]\n",
      "7.204157797402577, 73.73329991562308, 75.06707810004613 -> 'Your average score: 52.0' [0.0015119376905943227]\n",
      "\n",
      "Successed!\n"
     ]
    }
   ],
   "source": [
    "# report_exam_avg_test': Test_call\n",
    "msg = report_exam_avg(100,95,80)\n",
    "print(msg)\n",
    "assert msg== 'Your average score: 91.7'\n",
    "print('Checking some additional randomly generated cases:')\n",
    "for _ in range(10):\n",
    "    ex1 = random() * 100\n",
    "    ex2 = random() * 100\n",
    "    ex3 = random() * 100\n",
    "    msg = report_exam_avg(ex1, ex2, ex3)\n",
    "    ex_rounded_avg = (msg.split()[-1])\n",
    "    ex_rounded_avg = float(ex_rounded_avg)\n",
    "#     print(type(ex_rounded_avg))\n",
    "    abs_err = abs(ex_rounded_avg*3 - (ex1 + ex2 + ex3)) / 3\n",
    "    print(\"{}, {}, {} -> '{}' [{}]\".format(ex1, ex2, ex3, msg, abs_err))\n",
    "    assert abs_err <= 0.05\n",
    "print('\\nSuccessed!')"
   ]
  },
  {
   "cell_type": "code",
   "execution_count": null,
   "metadata": {},
   "outputs": [],
   "source": []
  }
 ],
 "metadata": {
  "kernelspec": {
   "display_name": "Python 3",
   "language": "python",
   "name": "python3"
  },
  "language_info": {
   "codemirror_mode": {
    "name": "ipython",
    "version": 3
   },
   "file_extension": ".py",
   "mimetype": "text/x-python",
   "name": "python",
   "nbconvert_exporter": "python",
   "pygments_lexer": "ipython3",
   "version": "3.7.4"
  }
 },
 "nbformat": 4,
 "nbformat_minor": 2
}
