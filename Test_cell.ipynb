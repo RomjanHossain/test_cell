{
 "cells": [
  {
   "cell_type": "markdown",
   "metadata": {},
   "source": [
    "## Test no. 01\n",
    "* Complete the following function, strcat_ba(a, b), so that given two strings, a and b, it returns the concatenation of b followed by a (pay attention to the order in these instructions!).*"
   ]
  },
  {
   "cell_type": "code",
   "execution_count": 20,
   "metadata": {},
   "outputs": [],
   "source": [
    "import string\n",
    "from random import choice"
   ]
  },
  {
   "cell_type": "code",
   "execution_count": 21,
   "metadata": {},
   "outputs": [],
   "source": [
    "def strcat_ba(a,b):\n",
    "    assert type(a) is str\n",
    "    assert type(b) is str\n",
    "    return b + a"
   ]
  },
  {
   "cell_type": "code",
   "execution_count": 15,
   "metadata": {},
   "outputs": [],
   "source": [
    "def random_letter():\n",
    "    word = string.ascii_letters[:]\n",
    "    return choice(word)"
   ]
  },
  {
   "cell_type": "code",
   "execution_count": 17,
   "metadata": {},
   "outputs": [
    {
     "data": {
      "text/plain": [
       "<function __main__.random_letter()>"
      ]
     },
     "execution_count": 17,
     "metadata": {},
     "output_type": "execute_result"
    }
   ],
   "source": [
    "random_letter"
   ]
  },
  {
   "cell_type": "code",
   "execution_count": 18,
   "metadata": {},
   "outputs": [],
   "source": [
    "def random_str(n,fun=random_letter):\n",
    "    return ''.join([str(fun()) for _ in range(n)])"
   ]
  },
  {
   "cell_type": "code",
   "execution_count": 24,
   "metadata": {},
   "outputs": [],
   "source": [
    "a =random_str(5)\n",
    "b = random_str(7)\n",
    "c = strcat_ba(a,b)"
   ]
  },
  {
   "cell_type": "code",
   "execution_count": 41,
   "metadata": {},
   "outputs": [
    {
     "name": "stdout",
     "output_type": "stream",
     "text": [
      "strcat_ba (aUaGJ, WgREAGG == WgREAGGaUaGJ)\n",
      "\n",
      "Success!\n"
     ]
    }
   ],
   "source": [
    "print(f'strcat_ba ({a}, {b} == {c})')\n",
    "assert len(c) == len(a) + len(b)\n",
    "assert c[:len(b)] == b\n",
    "assert c[len(b):] == a\n",
    "print('\\nSuccess!')"
   ]
  },
  {
   "cell_type": "code",
   "execution_count": 42,
   "metadata": {},
   "outputs": [
    {
     "name": "stdout",
     "output_type": "stream",
     "text": [
      "aUaGJ WgREAGG WgREAGGaUaGJ\n"
     ]
    }
   ],
   "source": [
    "print(a,b,c)"
   ]
  },
  {
   "cell_type": "markdown",
   "metadata": {},
   "source": [
    "## Test no -02\n",
    "* Complete the following function, strcat_list(L), which generalizes the previous function: given a list of strings, L[:], returns the concatenation of the strings in reverse order. For example:*\n",
    "\n",
    " **strcat_list(['abc', 'def', 'ghi']) == 'ghidefabc'**"
   ]
  },
  {
   "cell_type": "code",
   "execution_count": 43,
   "metadata": {},
   "outputs": [],
   "source": [
    "def strcat_list(L):\n",
    "    assert type(L) is list\n",
    "    return ''.join(L[::-1])\n",
    "    "
   ]
  },
  {
   "cell_type": "code",
   "execution_count": 56,
   "metadata": {},
   "outputs": [
    {
     "data": {
      "text/plain": [
       "['gXAu', 'alpd', 'PpDO', 'TgJo', 'Yagp', 'OFsf', 'nfQX', 'hbUM']"
      ]
     },
     "execution_count": 56,
     "metadata": {},
     "output_type": "execute_result"
    }
   ],
   "source": [
    "# testing strcat_list\n",
    "n = 4\n",
    "nL = 8\n",
    "L = [random_str(n) for _ in range(nL)]\n",
    "L"
   ]
  },
  {
   "cell_type": "code",
   "execution_count": 57,
   "metadata": {},
   "outputs": [
    {
     "data": {
      "text/plain": [
       "'hbUMnfQXOFsfYagpTgJoPpDOalpdgXAu'"
      ]
     },
     "execution_count": 57,
     "metadata": {},
     "output_type": "execute_result"
    }
   ],
   "source": [
    "Lc = strcat_list(L)\n",
    "Lc"
   ]
  },
  {
   "cell_type": "code",
   "execution_count": 70,
   "metadata": {},
   "outputs": [
    {
     "name": "stdout",
     "output_type": "stream",
     "text": [
      "L == ['gXAu', 'alpd', 'PpDO', 'TgJo', 'Yagp', 'OFsf', 'nfQX', 'hbUM']\n",
      "strcat_list(L) == hbUMnfQXOFsfYagpTgJoPpDOalpdgXAu\n",
      "\n",
      "Success!\n"
     ]
    }
   ],
   "source": [
    "print(f'L == {L}')\n",
    "print(f'strcat_list(L) == {Lc}')\n",
    "assert all([Lc[i*n:(i+1)*n] == L[nL-i-1] for i, x in zip(range(nL), L)])\n",
    "print('\\nSuccess!')"
   ]
  },
  {
   "cell_type": "code",
   "execution_count": 69,
   "metadata": {},
   "outputs": [],
   "source": []
  }
 ],
 "metadata": {
  "kernelspec": {
   "display_name": "Python 3",
   "language": "python",
   "name": "python3"
  },
  "language_info": {
   "codemirror_mode": {
    "name": "ipython",
    "version": 3
   },
   "file_extension": ".py",
   "mimetype": "text/x-python",
   "name": "python",
   "nbconvert_exporter": "python",
   "pygments_lexer": "ipython3",
   "version": "3.7.4"
  }
 },
 "nbformat": 4,
 "nbformat_minor": 2
}
